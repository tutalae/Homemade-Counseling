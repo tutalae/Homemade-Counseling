{
  "nbformat": 4,
  "nbformat_minor": 0,
  "metadata": {
    "colab": {
      "provenance": [],
      "authorship_tag": "ABX9TyML88IkFgrHH4yujsJevwV1",
      "include_colab_link": true
    },
    "kernelspec": {
      "name": "python3",
      "display_name": "Python 3"
    },
    "language_info": {
      "name": "python"
    }
  },
  "cells": [
    {
      "cell_type": "markdown",
      "metadata": {
        "id": "view-in-github",
        "colab_type": "text"
      },
      "source": [
        "<a href=\"https://colab.research.google.com/github/tutalae/Homemade-Counseling/blob/main/simple_independent_simulation.ipynb\" target=\"_parent\"><img src=\"https://colab.research.google.com/assets/colab-badge.svg\" alt=\"Open In Colab\"/></a>"
      ]
    },
    {
      "cell_type": "markdown",
      "source": [
        "# Example for independent simulation at www.homemade-counseling.com"
      ],
      "metadata": {
        "id": "AbVFXfAjnIpn"
      }
    },
    {
      "cell_type": "code",
      "execution_count": 53,
      "metadata": {
        "colab": {
          "base_uri": "https://localhost:8080/"
        },
        "id": "YRWc_m3ie33Q",
        "outputId": "ed08290a-d7c3-4e24-9f66-4737d5f2ca4e"
      },
      "outputs": [
        {
          "output_type": "execute_result",
          "data": {
            "text/plain": [
              "([[1, 1],\n",
              "  [1, 2],\n",
              "  [1, 3],\n",
              "  [1, 4],\n",
              "  [1, 5],\n",
              "  [1, 6],\n",
              "  [2, 1],\n",
              "  [2, 2],\n",
              "  [2, 3],\n",
              "  [2, 4],\n",
              "  [2, 5],\n",
              "  [2, 6],\n",
              "  [3, 1],\n",
              "  [3, 2],\n",
              "  [3, 3],\n",
              "  [3, 4],\n",
              "  [3, 5],\n",
              "  [3, 6],\n",
              "  [4, 1],\n",
              "  [4, 2],\n",
              "  [4, 3],\n",
              "  [4, 4],\n",
              "  [4, 5],\n",
              "  [4, 6],\n",
              "  [5, 1],\n",
              "  [5, 2],\n",
              "  [5, 3],\n",
              "  [5, 4],\n",
              "  [5, 5],\n",
              "  [5, 6],\n",
              "  [6, 1],\n",
              "  [6, 2],\n",
              "  [6, 3],\n",
              "  [6, 4],\n",
              "  [6, 5],\n",
              "  [6, 6]],\n",
              " 36)"
            ]
          },
          "metadata": {},
          "execution_count": 53
        }
      ],
      "source": [
        "omega = []\n",
        "for i in range(1,7):\n",
        "  for j in range(1,7):\n",
        "    omega.append([i,j])\n",
        "omega, len(omega)"
      ]
    },
    {
      "cell_type": "markdown",
      "source": [
        "## A = 18, P(A)=18/36"
      ],
      "metadata": {
        "id": "3TzF2JbqirOJ"
      }
    },
    {
      "cell_type": "code",
      "source": [
        "A = []\n",
        "for item in omega:\n",
        "  if item[1] == 1 or item[1] == 2 or item[1] == 5:\n",
        "    A.append(item)\n",
        "A, len(A)"
      ],
      "metadata": {
        "colab": {
          "base_uri": "https://localhost:8080/"
        },
        "id": "CL-u_17gfzP2",
        "outputId": "b725aac0-2f08-48bd-a68a-be05345356d3"
      },
      "execution_count": 54,
      "outputs": [
        {
          "output_type": "execute_result",
          "data": {
            "text/plain": [
              "([[1, 1],\n",
              "  [1, 2],\n",
              "  [1, 5],\n",
              "  [2, 1],\n",
              "  [2, 2],\n",
              "  [2, 5],\n",
              "  [3, 1],\n",
              "  [3, 2],\n",
              "  [3, 5],\n",
              "  [4, 1],\n",
              "  [4, 2],\n",
              "  [4, 5],\n",
              "  [5, 1],\n",
              "  [5, 2],\n",
              "  [5, 5],\n",
              "  [6, 1],\n",
              "  [6, 2],\n",
              "  [6, 5]],\n",
              " 18)"
            ]
          },
          "metadata": {},
          "execution_count": 54
        }
      ]
    },
    {
      "cell_type": "markdown",
      "source": [
        "## B = 18, P(B)=18/36"
      ],
      "metadata": {
        "id": "1GMIu--ji_Wc"
      }
    },
    {
      "cell_type": "code",
      "source": [
        "B = []\n",
        "for item in omega:\n",
        "  if item[1] == 4 or item[1] == 5 or item[1] == 6:\n",
        "    B.append(item)\n",
        "B, len(B)"
      ],
      "metadata": {
        "colab": {
          "base_uri": "https://localhost:8080/"
        },
        "id": "UsQ-Fg_fgheL",
        "outputId": "007d86da-ba86-4698-c2b4-a38a07be5b45"
      },
      "execution_count": 55,
      "outputs": [
        {
          "output_type": "execute_result",
          "data": {
            "text/plain": [
              "([[1, 4],\n",
              "  [1, 5],\n",
              "  [1, 6],\n",
              "  [2, 4],\n",
              "  [2, 5],\n",
              "  [2, 6],\n",
              "  [3, 4],\n",
              "  [3, 5],\n",
              "  [3, 6],\n",
              "  [4, 4],\n",
              "  [4, 5],\n",
              "  [4, 6],\n",
              "  [5, 4],\n",
              "  [5, 5],\n",
              "  [5, 6],\n",
              "  [6, 4],\n",
              "  [6, 5],\n",
              "  [6, 6]],\n",
              " 18)"
            ]
          },
          "metadata": {},
          "execution_count": 55
        }
      ]
    },
    {
      "cell_type": "markdown",
      "source": [
        "## C= 4, P(C)=4/36"
      ],
      "metadata": {
        "id": "FuASQK_Mi3FL"
      }
    },
    {
      "cell_type": "code",
      "source": [
        "C = []\n",
        "for item in omega:\n",
        "  if item[0] + item[1] == 9:\n",
        "    C.append(item)\n",
        "C, len(C)"
      ],
      "metadata": {
        "colab": {
          "base_uri": "https://localhost:8080/"
        },
        "id": "Z4vZCYQzgz6S",
        "outputId": "17fb3896-27b9-42fb-d41c-966f70dc537c"
      },
      "execution_count": 56,
      "outputs": [
        {
          "output_type": "execute_result",
          "data": {
            "text/plain": [
              "([[3, 6], [4, 5], [5, 4], [6, 3]], 4)"
            ]
          },
          "metadata": {},
          "execution_count": 56
        }
      ]
    },
    {
      "cell_type": "markdown",
      "source": [
        "## AB= 6, P(AB)=6/36"
      ],
      "metadata": {
        "id": "kxd7H5bgjaaT"
      }
    },
    {
      "cell_type": "code",
      "source": [
        "AB = []\n",
        "for iteminA in A:\n",
        "    if iteminA in B:\n",
        "      AB.append(iteminA)\n",
        "AB, len(AB)"
      ],
      "metadata": {
        "colab": {
          "base_uri": "https://localhost:8080/"
        },
        "id": "OECR6xlkimX0",
        "outputId": "166ab87f-8b17-476e-9edb-82869a44b65f"
      },
      "execution_count": 58,
      "outputs": [
        {
          "output_type": "execute_result",
          "data": {
            "text/plain": [
              "([[1, 5], [2, 5], [3, 5], [4, 5], [5, 5], [6, 5]], 6)"
            ]
          },
          "metadata": {},
          "execution_count": 58
        }
      ]
    },
    {
      "cell_type": "markdown",
      "source": [
        "## P(AB) $\\neq$ P(A)P(B)"
      ],
      "metadata": {
        "id": "oIMT7PAqjlxT"
      }
    },
    {
      "cell_type": "code",
      "source": [
        "print(\"P(AB):\", 6/36)\n",
        "print(\"P(A)P(B):\", 18/36*18/36)\n",
        "6/36 == 18/36*18/36 "
      ],
      "metadata": {
        "colab": {
          "base_uri": "https://localhost:8080/"
        },
        "id": "O-g4aG9MjRF7",
        "outputId": "19e3a55a-8856-4841-aa0a-2ec476ce5cb5"
      },
      "execution_count": 62,
      "outputs": [
        {
          "output_type": "stream",
          "name": "stdout",
          "text": [
            "P(AB): 0.16666666666666666\n",
            "P(A)P(B): 0.25\n"
          ]
        },
        {
          "output_type": "execute_result",
          "data": {
            "text/plain": [
              "False"
            ]
          },
          "metadata": {},
          "execution_count": 62
        }
      ]
    },
    {
      "cell_type": "markdown",
      "source": [
        "## AC= 1, P(AC)=1/36"
      ],
      "metadata": {
        "id": "1DMCRoALkWXL"
      }
    },
    {
      "cell_type": "code",
      "source": [
        "AC = []\n",
        "for iteminA in A:\n",
        "    if iteminA in C:\n",
        "      AC.append(iteminA)\n",
        "AC, len(AC)"
      ],
      "metadata": {
        "colab": {
          "base_uri": "https://localhost:8080/"
        },
        "id": "VV4aCYkdjinO",
        "outputId": "db4d96e5-fd1f-468b-da53-07046138d596"
      },
      "execution_count": 63,
      "outputs": [
        {
          "output_type": "execute_result",
          "data": {
            "text/plain": [
              "([[4, 5]], 1)"
            ]
          },
          "metadata": {},
          "execution_count": 63
        }
      ]
    },
    {
      "cell_type": "markdown",
      "source": [
        "## P(AC) $\\neq$ P(A)P(C)"
      ],
      "metadata": {
        "id": "kGLcxDBvkdQ-"
      }
    },
    {
      "cell_type": "code",
      "source": [
        "print(\"P(AC):\", 1/36)\n",
        "print(\"P(A)P(C):\", 18/36*4/36)\n",
        "1/36 == 18/36*4/36 "
      ],
      "metadata": {
        "colab": {
          "base_uri": "https://localhost:8080/"
        },
        "id": "RuHYTQVfkP7J",
        "outputId": "1e5fd7bc-7271-4801-bd58-e3337538779d"
      },
      "execution_count": 67,
      "outputs": [
        {
          "output_type": "stream",
          "name": "stdout",
          "text": [
            "P(AC): 0.027777777777777776\n",
            "P(A)P(C): 0.05555555555555555\n"
          ]
        },
        {
          "output_type": "execute_result",
          "data": {
            "text/plain": [
              "False"
            ]
          },
          "metadata": {},
          "execution_count": 67
        }
      ]
    },
    {
      "cell_type": "markdown",
      "source": [
        "## AB= 1, P(BC)=1/36"
      ],
      "metadata": {
        "id": "OtRYBGp9k4sM"
      }
    },
    {
      "cell_type": "code",
      "source": [
        "BC = []\n",
        "for iteminB in B:\n",
        "    if iteminB in C:\n",
        "      BC.append(iteminB)\n",
        "BC, len(BC)"
      ],
      "metadata": {
        "colab": {
          "base_uri": "https://localhost:8080/"
        },
        "id": "UJ5Wu9Pvk7V2",
        "outputId": "0ecddc59-d1b0-4d11-920c-b32c0260ad44"
      },
      "execution_count": 68,
      "outputs": [
        {
          "output_type": "execute_result",
          "data": {
            "text/plain": [
              "([[3, 6], [4, 5], [5, 4]], 3)"
            ]
          },
          "metadata": {},
          "execution_count": 68
        }
      ]
    },
    {
      "cell_type": "markdown",
      "source": [
        "## P(BC) $\\neq$ P(B)P(C)"
      ],
      "metadata": {
        "id": "GDsUbsgrk09N"
      }
    },
    {
      "cell_type": "code",
      "source": [
        "print(\"P(BC):\", 3/36)\n",
        "print(\"P(B)P(C):\", 18/36*4/36)\n",
        "3/36 == 18/36*4/36 "
      ],
      "metadata": {
        "colab": {
          "base_uri": "https://localhost:8080/"
        },
        "id": "3CWG6kL5kmkn",
        "outputId": "2d6515a7-2d1b-465e-90de-0a283903e3d4"
      },
      "execution_count": 69,
      "outputs": [
        {
          "output_type": "stream",
          "name": "stdout",
          "text": [
            "P(BC): 0.08333333333333333\n",
            "P(B)P(C): 0.05555555555555555\n"
          ]
        },
        {
          "output_type": "execute_result",
          "data": {
            "text/plain": [
              "False"
            ]
          },
          "metadata": {},
          "execution_count": 69
        }
      ]
    },
    {
      "cell_type": "markdown",
      "source": [
        "## P(ABC)"
      ],
      "metadata": {
        "id": "FIj8XFrHlMcs"
      }
    },
    {
      "cell_type": "code",
      "source": [
        "ABC = []\n",
        "for iteminA in A:\n",
        "    if iteminA in B and iteminA in C:\n",
        "      ABC.append(iteminA)\n",
        "ABC, len(ABC)"
      ],
      "metadata": {
        "colab": {
          "base_uri": "https://localhost:8080/"
        },
        "id": "04VUwglelLDg",
        "outputId": "44fd9195-7e23-4f92-94d7-58f7cfff3b27"
      },
      "execution_count": 71,
      "outputs": [
        {
          "output_type": "execute_result",
          "data": {
            "text/plain": [
              "([[4, 5]], 1)"
            ]
          },
          "metadata": {},
          "execution_count": 71
        }
      ]
    },
    {
      "cell_type": "markdown",
      "source": [
        "## P(A)P(B)P(C)"
      ],
      "metadata": {
        "id": "DKW3vWfylinu"
      }
    },
    {
      "cell_type": "code",
      "source": [
        "len(A)/len(omega)*len(B)/len(omega)*len(C)/len(omega)"
      ],
      "metadata": {
        "colab": {
          "base_uri": "https://localhost:8080/"
        },
        "id": "K00n4viqlX2P",
        "outputId": "005b384d-c554-4a5f-bf1b-ef7e7e41de58"
      },
      "execution_count": 72,
      "outputs": [
        {
          "output_type": "execute_result",
          "data": {
            "text/plain": [
              "0.027777777777777776"
            ]
          },
          "metadata": {},
          "execution_count": 72
        }
      ]
    },
    {
      "cell_type": "markdown",
      "source": [
        "# P(ABC)=P(A)P(B)P(C)"
      ],
      "metadata": {
        "id": "j4rNjrMslyi-"
      }
    },
    {
      "cell_type": "code",
      "source": [
        "len(ABC)/len(omega)==len(A)/len(omega)*len(B)/len(omega)*len(C)/len(omega)"
      ],
      "metadata": {
        "colab": {
          "base_uri": "https://localhost:8080/"
        },
        "id": "PStgrKSyltcB",
        "outputId": "ff77e21e-511b-488e-bf58-776381c76a09"
      },
      "execution_count": 74,
      "outputs": [
        {
          "output_type": "execute_result",
          "data": {
            "text/plain": [
              "True"
            ]
          },
          "metadata": {},
          "execution_count": 74
        }
      ]
    },
    {
      "cell_type": "code",
      "source": [],
      "metadata": {
        "id": "PvPtwXk5lwyo"
      },
      "execution_count": null,
      "outputs": []
    }
  ]
}